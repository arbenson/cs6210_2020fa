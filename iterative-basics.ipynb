{
 "cells": [
  {
   "cell_type": "code",
   "execution_count": 1,
   "metadata": {},
   "outputs": [],
   "source": [
    "using Arpack\n",
    "using LinearAlgebra\n",
    "using IterativeSolvers\n",
    "using SparseArrays"
   ]
  },
  {
   "cell_type": "code",
   "execution_count": 2,
   "metadata": {},
   "outputs": [
    {
     "data": {
      "text/plain": [
       "read_mat (generic function with 1 method)"
      ]
     },
     "execution_count": 2,
     "metadata": {},
     "output_type": "execute_result"
    }
   ],
   "source": [
    "function read_mat()\n",
    "    Is = Int64[]\n",
    "    Js = Int64[]\n",
    "    # data downloaded from http://snap.stanford.edu/data/enwiki-2013.html\n",
    "    open(\"enwiki-2013.txt\") do f\n",
    "        for line in eachline(f)\n",
    "            if line[1] == '#'; continue; end # skip lines starting with #\n",
    "            i, j = split(line)\n",
    "            # note 0 --> 1 indexing\n",
    "            push!(Is, parse(Int64, i) + 1)\n",
    "            push!(Js, parse(Int64, j) + 1)\n",
    "        end\n",
    "    end\n",
    "    n = max(maximum(Is), maximum(Js))\n",
    "    A = sparse(Is, Js, 1, n, n)\n",
    "    A = min.(A, 1)\n",
    "    A = max.(A, A')  # symmetrize\n",
    "    d = vec(sum(A, dims=1))\n",
    "    # Skip unused indices\n",
    "    keep = d .> 0\n",
    "    return A[keep, keep]\n",
    "end"
   ]
  },
  {
   "cell_type": "code",
   "execution_count": 3,
   "metadata": {},
   "outputs": [
    {
     "name": "stdout",
     "output_type": "stream",
     "text": [
      " 85.391834 seconds (405.49 M allocations: 35.585 GiB, 4.49% gc time)\n"
     ]
    }
   ],
   "source": [
    "@time A = read_mat()  # takes about one minute\n",
    "d = vec(sum(A, dims=1))\n",
    "α = 0.85\n",
    "D = Diagonal(d)\n",
    "S = D - α * A\n",
    ";"
   ]
  },
  {
   "cell_type": "code",
   "execution_count": 4,
   "metadata": {},
   "outputs": [
    {
     "data": {
      "text/plain": [
       "(4203323, 188082777)"
      ]
     },
     "execution_count": 4,
     "metadata": {},
     "output_type": "execute_result"
    }
   ],
   "source": [
    "n = size(S, 1)\n",
    "n, nnz(S)"
   ]
  },
  {
   "cell_type": "code",
   "execution_count": 5,
   "metadata": {},
   "outputs": [
    {
     "name": "stdout",
     "output_type": "stream",
     "text": [
      "  0.984386 seconds (72.46 k allocations: 35.949 MiB)\n"
     ]
    }
   ],
   "source": [
    "# Still have fast matmuls!\n",
    "x = randn(n)\n",
    "@time S * x;"
   ]
  },
  {
   "cell_type": "code",
   "execution_count": 6,
   "metadata": {},
   "outputs": [
    {
     "name": "stdout",
     "output_type": "stream",
     "text": [
      "521.848813828728\n",
      "88.98725985271436\n",
      "82.94152939915188\n",
      "22.924406287278963\n",
      "35.66336159405403\n",
      "11.52803164438193\n",
      "18.06666776171178\n",
      "6.675769505593732\n",
      "9.738311857553624\n",
      "4.0611771089925695\n",
      "5.465228116794151\n",
      "2.5427828579656095\n",
      "3.1682543221442394\n",
      "1.6275436229451954\n",
      "1.8900935094812361\n",
      "1.0615071370564761\n",
      "1.1577894139024947\n",
      "0.7038693505292188\n",
      "0.7269527220228325\n",
      "0.47353508773651976\n"
     ]
    }
   ],
   "source": [
    "# Splitting method for Ax = b\n",
    "true_x = randn(n)\n",
    "b = S * true_x\n",
    "x = zeros(n)\n",
    "for k = 1:20\n",
    "    y = α * (A * x) + b\n",
    "    x = D \\ y\n",
    "    println(norm(x - true_x))\n",
    "end"
   ]
  },
  {
   "cell_type": "code",
   "execution_count": 7,
   "metadata": {},
   "outputs": [],
   "source": [
    "# Set up LLS problem\n",
    "p = 100000\n",
    "S1 = S[:, 1:p];\n",
    "y = randn(p)\n",
    "b = S1 * y\n",
    "b = b ./ norm(b)\n",
    "r = rand(n)\n",
    "r = (r / norm(r)) .* 1e-5\n",
    "b1 = b + r\n",
    ";"
   ]
  },
  {
   "cell_type": "code",
   "execution_count": 8,
   "metadata": {},
   "outputs": [
    {
     "name": "stdout",
     "output_type": "stream",
     "text": [
      " 17.697987 seconds (1.68 M allocations: 363.052 MiB, 0.73% gc time)\n"
     ]
    }
   ],
   "source": [
    "# Iterative solver for least squares\n",
    "@time z = lsmr(S1, b1, atol=1e-4, btol=1e-4);"
   ]
  },
  {
   "cell_type": "code",
   "execution_count": 9,
   "metadata": {},
   "outputs": [
    {
     "data": {
      "text/plain": [
       "0.06039136284481737"
      ]
     },
     "execution_count": 9,
     "metadata": {},
     "output_type": "execute_result"
    }
   ],
   "source": [
    "# Relative error in LLS\n",
    "norm(S1 * z - b1) / norm(b1)"
   ]
  },
  {
   "cell_type": "code",
   "execution_count": 10,
   "metadata": {},
   "outputs": [
    {
     "name": "stdout",
     "output_type": "stream",
     "text": [
      " 42.229266 seconds (6.19 M allocations: 1.150 GiB, 0.26% gc time)\n"
     ]
    },
    {
     "data": {
      "text/plain": [
       "([432260.722607671, 168651.72267648167], [-4.37124351770321e-19 -4.5976163781745166e-17; -2.020486045137181e-20 -3.7637556190508666e-18; … ; 1.068194728367743e-18 1.2111204191659628e-16; 3.9538262958402107e-19 4.6752269468706075e-17], 2, 2, 37, [3.231093812979701, 0.2657767987126822, -6.218425478877261, -7.964108215884627, 0.6100111069833637, -2.3509833017340167, 3.3734583691956455, -2.1353562521949745, 2.6531912842611587, -1.267843035428465  …  0.3010695427328299, 3.21114150735015, 3.764493405517252, -3.985246663514036, -8.707910891072236, 3.2260424133276597, 0.7592611288862899, 5.997884802307534, -8.507260913334559, -3.2825411074852706])"
      ]
     },
     "execution_count": 10,
     "metadata": {},
     "output_type": "execute_result"
    }
   ],
   "source": [
    "# Iterative solver for two largest magnitude eigenvalues and eigenvectors\n",
    "@time Λ, Z = eigs(S, tol=1e-7, nev=2, which=:LM)"
   ]
  },
  {
   "cell_type": "code",
   "execution_count": 11,
   "metadata": {},
   "outputs": [
    {
     "data": {
      "text/plain": [
       "(2.6143548315862864e-7, 6.353884530084567e-15)"
      ]
     },
     "execution_count": 11,
     "metadata": {},
     "output_type": "execute_result"
    }
   ],
   "source": [
    "# Error in eigenvectors\n",
    "norm(S * Z - Z * Diagonal(Λ)), norm(Z'Z - I)"
   ]
  },
  {
   "cell_type": "code",
   "execution_count": 12,
   "metadata": {},
   "outputs": [
    {
     "data": {
      "text/plain": [
       "2.3622686454712325e-7"
      ]
     },
     "execution_count": 12,
     "metadata": {},
     "output_type": "execute_result"
    }
   ],
   "source": [
    "norm(S * Z[:, 1] - Z[:, 1] * Λ[1])"
   ]
  },
  {
   "cell_type": "code",
   "execution_count": 13,
   "metadata": {},
   "outputs": [
    {
     "data": {
      "text/plain": [
       "1.1200616197611938e-7"
      ]
     },
     "execution_count": 13,
     "metadata": {},
     "output_type": "execute_result"
    }
   ],
   "source": [
    "norm(S * Z[:, 2] - Z[:, 2] * Λ[2])"
   ]
  },
  {
   "cell_type": "code",
   "execution_count": null,
   "metadata": {},
   "outputs": [],
   "source": []
  }
 ],
 "metadata": {
  "kernelspec": {
   "display_name": "Julia 1.5.1",
   "language": "julia",
   "name": "julia-1.5"
  },
  "language_info": {
   "file_extension": ".jl",
   "mimetype": "application/julia",
   "name": "julia",
   "version": "1.5.1"
  }
 },
 "nbformat": 4,
 "nbformat_minor": 4
}
