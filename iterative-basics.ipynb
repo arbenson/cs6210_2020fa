{
 "cells": [
  {
   "cell_type": "code",
   "execution_count": 1,
   "metadata": {},
   "outputs": [],
   "source": [
    "using Arpack\n",
    "using LinearAlgebra\n",
    "using IterativeSolvers\n",
    "using SparseArrays"
   ]
  },
  {
   "cell_type": "code",
   "execution_count": 2,
   "metadata": {},
   "outputs": [
    {
     "data": {
      "text/plain": [
       "read_mat (generic function with 1 method)"
      ]
     },
     "execution_count": 2,
     "metadata": {},
     "output_type": "execute_result"
    }
   ],
   "source": [
    "function read_mat()\n",
    "    Is = Int64[]\n",
    "    Js = Int64[]\n",
    "    # data downloaded from http://snap.stanford.edu/data/enwiki-2013.html\n",
    "    open(\"enwiki-2013.txt\") do f\n",
    "        for line in eachline(f)\n",
    "            if line[1] == '#'; continue; end # skip lines starting with #\n",
    "            i, j = split(line)\n",
    "            # note 0 --> 1 indexing\n",
    "            push!(Is, parse(Int64, i) + 1)\n",
    "            push!(Js, parse(Int64, j) + 1)\n",
    "        end\n",
    "    end\n",
    "    n = max(maximum(Is), maximum(Js))\n",
    "    A = sparse(Is, Js, 1, n, n)\n",
    "    A = min.(A, 1)\n",
    "    A = max.(A, A')  # symmetrize\n",
    "    d = vec(sum(A, dims=1))\n",
    "    # Skip unused indices\n",
    "    keep = d .> 0\n",
    "    return A[keep, keep]\n",
    "end"
   ]
  },
  {
   "cell_type": "code",
   "execution_count": 3,
   "metadata": {},
   "outputs": [
    {
     "name": "stdout",
     "output_type": "stream",
     "text": [
      " 75.713478 seconds (405.49 M allocations: 35.570 GiB, 4.69% gc time)\n"
     ]
    }
   ],
   "source": [
    "@time A = read_mat()  # takes about one minute\n",
    "d = vec(sum(A, dims=1))\n",
    "α = 0.85\n",
    "D = Diagonal(d)\n",
    "S = D - α * A\n",
    ";"
   ]
  },
  {
   "cell_type": "code",
   "execution_count": 4,
   "metadata": {},
   "outputs": [
    {
     "data": {
      "text/plain": [
       "(4203323, 188082777)"
      ]
     },
     "execution_count": 4,
     "metadata": {},
     "output_type": "execute_result"
    }
   ],
   "source": [
    "n = size(S, 1)\n",
    "n, nnz(S)"
   ]
  },
  {
   "cell_type": "code",
   "execution_count": 5,
   "metadata": {},
   "outputs": [
    {
     "name": "stdout",
     "output_type": "stream",
     "text": [
      "  0.863799 seconds (72.46 k allocations: 35.949 MiB)\n"
     ]
    }
   ],
   "source": [
    "# Still have fast matmuls!\n",
    "x = randn(n)\n",
    "@time S * x;"
   ]
  },
  {
   "cell_type": "code",
   "execution_count": 6,
   "metadata": {},
   "outputs": [
    {
     "name": "stdout",
     "output_type": "stream",
     "text": [
      "522.1935433533063\n",
      "89.83676750158715\n",
      "78.97087260206708\n",
      "22.173206092975718\n",
      "32.27016750641598\n",
      "10.600438671343358\n",
      "15.72746211359596\n",
      "5.958262666549539\n",
      "8.177252374415165\n",
      "3.539116569597201\n",
      "4.425704718783172\n",
      "2.1571393003847206\n",
      "2.4716787265190856\n",
      "1.3362398659081585\n",
      "1.4194707427040794\n",
      "0.8391803832154308\n",
      "0.8373874592957476\n",
      "0.5345217769790489\n",
      "0.5074853626328737\n",
      "0.34574245199858494\n"
     ]
    }
   ],
   "source": [
    "# Splitting method for Ax = b\n",
    "true_x = randn(n)\n",
    "b = S * true_x\n",
    "x = zeros(n)\n",
    "for k = 1:20\n",
    "    y = α * (A * x) + b\n",
    "    x = D \\ y\n",
    "    println(norm(x - true_x))\n",
    "end"
   ]
  },
  {
   "cell_type": "code",
   "execution_count": 7,
   "metadata": {},
   "outputs": [],
   "source": [
    "# Set up LLS problem\n",
    "p = 100000\n",
    "S1 = S[:, 1:p];\n",
    "y = randn(p)\n",
    "b = S1 * y\n",
    "b = b ./ norm(b)\n",
    "r = rand(n)\n",
    "r = (r / norm(r)) .* 1e-5\n",
    "b1 = b + r\n",
    ";"
   ]
  },
  {
   "cell_type": "code",
   "execution_count": 8,
   "metadata": {},
   "outputs": [
    {
     "name": "stdout",
     "output_type": "stream",
     "text": [
      " 16.353536 seconds (1.68 M allocations: 363.052 MiB, 0.75% gc time)\n"
     ]
    }
   ],
   "source": [
    "# Iterative solver for least squares\n",
    "@time z = lsmr(S1, b1, atol=1e-4, btol=1e-4);"
   ]
  },
  {
   "cell_type": "code",
   "execution_count": 9,
   "metadata": {},
   "outputs": [
    {
     "data": {
      "text/plain": [
       "0.06121447988220485"
      ]
     },
     "execution_count": 9,
     "metadata": {},
     "output_type": "execute_result"
    }
   ],
   "source": [
    "# Relative error in LLS\n",
    "norm(S1 * z - b1) / norm(b1)"
   ]
  },
  {
   "cell_type": "code",
   "execution_count": 10,
   "metadata": {},
   "outputs": [
    {
     "name": "stdout",
     "output_type": "stream",
     "text": [
      " 37.567399 seconds (6.19 M allocations: 1.150 GiB, 0.26% gc time)\n"
     ]
    },
    {
     "data": {
      "text/plain": [
       "([432260.722607671, 168651.72267648167], [-4.37124351770321e-19 -4.5976163781745166e-17; -2.020486045137181e-20 -3.7637556190508666e-18; … ; 1.068194728367743e-18 1.2111204191659628e-16; 3.9538262958402107e-19 4.6752269468706075e-17], 2, 2, 37, [3.231093812979701, 0.2657767987126822, -6.218425478877261, -7.964108215884627, 0.6100111069833637, -2.3509833017340167, 3.3734583691956455, -2.1353562521949745, 2.6531912842611587, -1.267843035428465  …  0.3010695427328299, 3.21114150735015, 3.764493405517252, -3.985246663514036, -8.707910891072236, 3.2260424133276597, 0.7592611288862899, 5.997884802307534, -8.507260913334559, -3.2825411074852706])"
      ]
     },
     "execution_count": 10,
     "metadata": {},
     "output_type": "execute_result"
    }
   ],
   "source": [
    "# Iterative solver for two largest magnitude eigenvalues and eigenvectors\n",
    "@time Λ, Z = eigs(S, tol=1e-7, nev=2, which=:LM)"
   ]
  },
  {
   "cell_type": "code",
   "execution_count": null,
   "metadata": {},
   "outputs": [],
   "source": [
    "# Error in eigenvectors\n",
    "norm(S * Z - Z * Diagonal(Λ)), norm(Z'Z - I)"
   ]
  },
  {
   "cell_type": "code",
   "execution_count": null,
   "metadata": {},
   "outputs": [],
   "source": [
    "norm(S * Z[:, 1] - Z[:, 1] * Λ[1])"
   ]
  },
  {
   "cell_type": "code",
   "execution_count": null,
   "metadata": {},
   "outputs": [],
   "source": [
    "norm(S * Z[:, 2] - Z[:, 2] * Λ[2])"
   ]
  },
  {
   "cell_type": "code",
   "execution_count": null,
   "metadata": {},
   "outputs": [],
   "source": []
  }
 ],
 "metadata": {
  "kernelspec": {
   "display_name": "Julia 1.5.1",
   "language": "julia",
   "name": "julia-1.5"
  },
  "language_info": {
   "file_extension": ".jl",
   "mimetype": "application/julia",
   "name": "julia",
   "version": "1.5.1"
  }
 },
 "nbformat": 4,
 "nbformat_minor": 4
}
