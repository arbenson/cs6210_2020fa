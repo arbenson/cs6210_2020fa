{
 "cells": [
  {
   "cell_type": "code",
   "execution_count": 1,
   "metadata": {},
   "outputs": [],
   "source": [
    "using Arpack\n",
    "using LinearAlgebra\n",
    "using IterativeSolvers\n",
    "using SparseArrays"
   ]
  },
  {
   "cell_type": "code",
   "execution_count": 2,
   "metadata": {},
   "outputs": [
    {
     "data": {
      "text/plain": [
       "read_mat (generic function with 1 method)"
      ]
     },
     "execution_count": 2,
     "metadata": {},
     "output_type": "execute_result"
    }
   ],
   "source": [
    "function read_mat()\n",
    "    Is = Int64[]\n",
    "    Js = Int64[]\n",
    "    # data downloaded from http://snap.stanford.edu/data/enwiki-2013.html\n",
    "    open(\"enwiki-2013.txt\") do f\n",
    "        for line in eachline(f)\n",
    "            if line[1] == '#'; continue; end # skip lines starting with #\n",
    "            i, j = split(line)\n",
    "            # note 0 --> 1 indexing\n",
    "            push!(Is, parse(Int64, i) + 1)\n",
    "            push!(Js, parse(Int64, j) + 1)\n",
    "        end\n",
    "    end\n",
    "    n = max(maximum(Is), maximum(Js))\n",
    "    A = sparse(Is, Js, 1, n, n)\n",
    "    A = min.(A, 1)\n",
    "    A = max.(A, A')  # symmetrize\n",
    "    d = vec(sum(A, dims=1))\n",
    "    # Skip unused indices\n",
    "    keep = d .> 0\n",
    "    return A[keep, keep]\n",
    "end"
   ]
  },
  {
   "cell_type": "code",
   "execution_count": 3,
   "metadata": {},
   "outputs": [
    {
     "name": "stdout",
     "output_type": "stream",
     "text": [
      " 77.410068 seconds (405.49 M allocations: 35.570 GiB, 4.76% gc time)\n"
     ]
    }
   ],
   "source": [
    "@time A = read_mat()  # takes about one minute\n",
    "d = vec(sum(A, dims=1))\n",
    "α = 0.5\n",
    "D = Diagonal(d)\n",
    "S = D - α * A\n",
    ";"
   ]
  },
  {
   "cell_type": "code",
   "execution_count": 4,
   "metadata": {},
   "outputs": [
    {
     "data": {
      "text/plain": [
       "(4203323, 188082777)"
      ]
     },
     "execution_count": 4,
     "metadata": {},
     "output_type": "execute_result"
    }
   ],
   "source": [
    "n = size(S, 1)\n",
    "n, nnz(S)"
   ]
  },
  {
   "cell_type": "code",
   "execution_count": 5,
   "metadata": {},
   "outputs": [
    {
     "name": "stdout",
     "output_type": "stream",
     "text": [
      "  0.878136 seconds (72.46 k allocations: 35.949 MiB)\n"
     ]
    }
   ],
   "source": [
    "x = randn(n)\n",
    "@time S * x;"
   ]
  },
  {
   "cell_type": "code",
   "execution_count": 6,
   "metadata": {},
   "outputs": [
    {
     "name": "stdout",
     "output_type": "stream",
     "text": [
      "303.2860045397605\n",
      "30.680807329710287\n",
      "16.33624993932302\n",
      "2.6898996225196696\n",
      "2.514796022335498\n",
      "0.47389121300436904\n",
      "0.45696159217935234\n",
      "0.09853462966581672\n",
      "0.08764067896771156\n",
      "0.021623018327480426\n",
      "0.017362415577518626\n",
      "0.004850734314991793\n",
      "0.003528499981512804\n",
      "0.001100288526620871\n",
      "0.0007336069311031243\n",
      "0.0002515135310294068\n",
      "0.00015585963060902707\n",
      "5.7912848447441255e-5\n",
      "3.381842567475864e-5\n",
      "1.343900217793683e-5\n"
     ]
    }
   ],
   "source": [
    "# Splitting method for Ax = b\n",
    "true_x = randn(n)\n",
    "b = S * true_x\n",
    "x = zeros(n)\n",
    "for k = 1:20\n",
    "    y = α * (A * x) + b\n",
    "    x = D \\ y\n",
    "    println(norm(x - true_x))\n",
    "end"
   ]
  },
  {
   "cell_type": "code",
   "execution_count": 7,
   "metadata": {},
   "outputs": [
    {
     "name": "stdout",
     "output_type": "stream",
     "text": [
      " 21.344020 seconds (6.20 M allocations: 1.119 GiB, 0.64% gc time)\n"
     ]
    }
   ],
   "source": [
    "@time Λ, Z = eigs(S, tol=1e-2, nev=1, which=:LM)\n",
    "λ = Λ[1]\n",
    "z = Z[:, 1]\n",
    ";"
   ]
  },
  {
   "cell_type": "code",
   "execution_count": 8,
   "metadata": {},
   "outputs": [
    {
     "data": {
      "text/plain": [
       "5.855140092601136e-7"
      ]
     },
     "execution_count": 8,
     "metadata": {},
     "output_type": "execute_result"
    }
   ],
   "source": [
    "norm(S * z - λ * z)"
   ]
  },
  {
   "cell_type": "code",
   "execution_count": 9,
   "metadata": {},
   "outputs": [],
   "source": [
    "# Set us LLS problem\n",
    "p = 100000\n",
    "S1 = S[:, 1:p];\n",
    "y = randn(p)\n",
    "b = S1 * y\n",
    "b = b ./ norm(b)\n",
    "r = rand(n)\n",
    "r = (r / norm(r)) .* 1e-5\n",
    "b1 = b + r\n",
    ";"
   ]
  },
  {
   "cell_type": "code",
   "execution_count": 10,
   "metadata": {},
   "outputs": [
    {
     "name": "stdout",
     "output_type": "stream",
     "text": [
      " 15.538189 seconds (1.67 M allocations: 362.619 MiB, 1.09% gc time)\n"
     ]
    }
   ],
   "source": [
    "@time z = lsmr(S1, b1, atol=1e-4, btol=1e-4);"
   ]
  },
  {
   "cell_type": "code",
   "execution_count": 11,
   "metadata": {},
   "outputs": [
    {
     "data": {
      "text/plain": [
       "0.05813522817131246"
      ]
     },
     "execution_count": 11,
     "metadata": {},
     "output_type": "execute_result"
    }
   ],
   "source": [
    "norm(S1 * z - b1) / norm(b1)"
   ]
  },
  {
   "cell_type": "code",
   "execution_count": null,
   "metadata": {},
   "outputs": [],
   "source": []
  }
 ],
 "metadata": {
  "kernelspec": {
   "display_name": "Julia 1.5.1",
   "language": "julia",
   "name": "julia-1.5"
  },
  "language_info": {
   "file_extension": ".jl",
   "mimetype": "application/julia",
   "name": "julia",
   "version": "1.5.1"
  }
 },
 "nbformat": 4,
 "nbformat_minor": 4
}
