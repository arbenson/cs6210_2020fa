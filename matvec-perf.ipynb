{
 "cells": [
  {
   "cell_type": "code",
   "execution_count": 1,
   "metadata": {},
   "outputs": [
    {
     "data": {
      "text/plain": [
       "matvec1 (generic function with 1 method)"
      ]
     },
     "execution_count": 1,
     "metadata": {},
     "output_type": "execute_result"
    }
   ],
   "source": [
    "function matvec1(A, x)\n",
    "    m, n = size(A)\n",
    "    y = zeros(Float64, m)\n",
    "    for i = 1:m\n",
    "        for j = 1:n\n",
    "            @inbounds y[i] += A[i, j] * x[j]\n",
    "        end\n",
    "    end\n",
    "    return y\n",
    "end"
   ]
  },
  {
   "cell_type": "code",
   "execution_count": 2,
   "metadata": {},
   "outputs": [
    {
     "data": {
      "text/plain": [
       "matvec2 (generic function with 1 method)"
      ]
     },
     "execution_count": 2,
     "metadata": {},
     "output_type": "execute_result"
    }
   ],
   "source": [
    "function matvec2(A, x)\n",
    "    m, n = size(A)\n",
    "    y = zeros(Float64, m)\n",
    "    for j = 1:n\n",
    "        for i = 1:m\n",
    "            @inbounds y[i] += A[i, j] * x[j]\n",
    "        end\n",
    "    end\n",
    "    return y\n",
    "end"
   ]
  },
  {
   "cell_type": "code",
   "execution_count": 3,
   "metadata": {},
   "outputs": [
    {
     "data": {
      "text/plain": [
       "matvec3 (generic function with 1 method)"
      ]
     },
     "execution_count": 3,
     "metadata": {},
     "output_type": "execute_result"
    }
   ],
   "source": [
    "function matvec3(A, x)\n",
    "    return A * x\n",
    "end"
   ]
  },
  {
   "cell_type": "code",
   "execution_count": 4,
   "metadata": {},
   "outputs": [
    {
     "data": {
      "text/plain": [
       "(0.0, 2.1032064978498966e-12, 2.1032064978498966e-12)"
      ]
     },
     "execution_count": 4,
     "metadata": {},
     "output_type": "execute_result"
    }
   ],
   "source": [
    "m, n = 2 * 6210, 6210\n",
    "A = randn(Float64, m, n)\n",
    "x = randn(Float64, n)\n",
    "\n",
    "y1 = matvec1(A, x)\n",
    "y2 = matvec2(A, x)\n",
    "y3 = matvec3(A, x)\n",
    "\n",
    "maxdiff(w, v) = maximum(abs.(w - v))\n",
    "\n",
    "maxdiff(y1, y2), maxdiff(y1, y3), maxdiff(y2, y3)"
   ]
  },
  {
   "cell_type": "code",
   "execution_count": 6,
   "metadata": {},
   "outputs": [
    {
     "name": "stdout",
     "output_type": "stream",
     "text": [
      "  0.975577 seconds (2 allocations: 97.141 KiB)\n",
      "  0.062615 seconds (2 allocations: 97.141 KiB)\n",
      "  0.034106 seconds (2 allocations: 97.141 KiB)\n"
     ]
    }
   ],
   "source": [
    "@time matvec1(A, x)\n",
    "@time matvec2(A, x)\n",
    "@time matvec3(A, x)\n",
    ";"
   ]
  },
  {
   "cell_type": "code",
   "execution_count": null,
   "metadata": {},
   "outputs": [],
   "source": []
  }
 ],
 "metadata": {
  "@webio": {
   "lastCommId": null,
   "lastKernelId": null
  },
  "kernelspec": {
   "display_name": "Julia 1.4.0",
   "language": "julia",
   "name": "julia-1.4"
  },
  "language_info": {
   "file_extension": ".jl",
   "mimetype": "application/julia",
   "name": "julia",
   "version": "1.4.0"
  }
 },
 "nbformat": 4,
 "nbformat_minor": 2
}
